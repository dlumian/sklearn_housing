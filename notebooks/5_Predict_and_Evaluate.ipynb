{
 "cells": [
  {
   "cell_type": "markdown",
   "metadata": {},
   "source": [
    "# SKLEARN HOUSING DATA\n",
    "## Evaluate Models Notebook"
   ]
  },
  {
   "cell_type": "code",
   "execution_count": 15,
   "metadata": {},
   "outputs": [],
   "source": [
    "import os\n",
    "import pandas as pd\n",
    "import seaborn as sns\n",
    "from joblib import load"
   ]
  },
  {
   "cell_type": "code",
   "execution_count": 6,
   "metadata": {},
   "outputs": [],
   "source": [
    "data_path = os.path.join('..', 'data')"
   ]
  },
  {
   "cell_type": "code",
   "execution_count": 7,
   "metadata": {},
   "outputs": [],
   "source": [
    "X_test_path = os.path.join(data_path, 'X_test.csv')"
   ]
  },
  {
   "cell_type": "code",
   "execution_count": 8,
   "metadata": {},
   "outputs": [],
   "source": [
    "y_test_path = os.path.join(data_path, 'y_test.csv')"
   ]
  },
  {
   "cell_type": "code",
   "execution_count": 9,
   "metadata": {},
   "outputs": [],
   "source": [
    "X_test = pd.read_csv(X_test_path)\n",
    "y_test = pd.read_csv(y_test_path)"
   ]
  },
  {
   "cell_type": "code",
   "execution_count": 10,
   "metadata": {},
   "outputs": [],
   "source": [
    "models_path = os.path.join('..', 'models')"
   ]
  },
  {
   "cell_type": "code",
   "execution_count": 11,
   "metadata": {},
   "outputs": [],
   "source": [
    "lr_model_path = os.path.join(models_path, 'lr.pkl')"
   ]
  },
  {
   "cell_type": "code",
   "execution_count": 12,
   "metadata": {},
   "outputs": [],
   "source": [
    "lr = load(lr_model_path)"
   ]
  },
  {
   "cell_type": "code",
   "execution_count": 13,
   "metadata": {},
   "outputs": [],
   "source": [
    "lr_preds = lr.predict(X_test)"
   ]
  },
  {
   "cell_type": "code",
   "execution_count": 14,
   "metadata": {},
   "outputs": [
    {
     "data": {
      "text/plain": [
       "array([[28.53469469],\n",
       "       [36.6187006 ],\n",
       "       [15.63751079],\n",
       "       [25.5014496 ],\n",
       "       [18.7096734 ],\n",
       "       [23.16471591],\n",
       "       [17.31011035],\n",
       "       [14.07736367],\n",
       "       [23.01064388],\n",
       "       [20.54223482],\n",
       "       [24.91632351],\n",
       "       [18.41098052],\n",
       "       [-6.52079687],\n",
       "       [21.83372604],\n",
       "       [19.14903064],\n",
       "       [26.0587322 ],\n",
       "       [20.30232625],\n",
       "       [ 5.74943567],\n",
       "       [40.33137811],\n",
       "       [17.45791446],\n",
       "       [27.47486665],\n",
       "       [30.2170757 ],\n",
       "       [10.80555625],\n",
       "       [23.87721728],\n",
       "       [17.99492211],\n",
       "       [16.02608791],\n",
       "       [23.268288  ],\n",
       "       [14.36825207],\n",
       "       [22.38116971],\n",
       "       [19.3092068 ],\n",
       "       [22.17284576],\n",
       "       [25.05925441],\n",
       "       [25.13780726],\n",
       "       [18.46730198],\n",
       "       [16.60405712],\n",
       "       [17.46564046],\n",
       "       [30.71367733],\n",
       "       [20.05106788],\n",
       "       [23.9897768 ],\n",
       "       [24.94322408],\n",
       "       [13.97945355],\n",
       "       [31.64706967],\n",
       "       [42.48057206],\n",
       "       [17.70042814],\n",
       "       [26.92507869],\n",
       "       [17.15897719],\n",
       "       [13.68918087],\n",
       "       [26.14924245],\n",
       "       [20.2782306 ],\n",
       "       [29.99003492],\n",
       "       [21.21260347],\n",
       "       [34.03649185],\n",
       "       [15.41837553],\n",
       "       [25.95781061],\n",
       "       [39.13897274],\n",
       "       [22.96118424],\n",
       "       [18.80310558],\n",
       "       [33.07865362],\n",
       "       [24.74384155],\n",
       "       [12.83640958],\n",
       "       [22.41963398],\n",
       "       [30.64804979],\n",
       "       [31.59567111],\n",
       "       [16.34088197],\n",
       "       [20.9504304 ],\n",
       "       [16.70145875],\n",
       "       [20.23215646],\n",
       "       [26.1437865 ],\n",
       "       [31.12160889],\n",
       "       [11.89762768],\n",
       "       [20.45432404],\n",
       "       [27.48356359],\n",
       "       [10.89034224],\n",
       "       [16.77707214],\n",
       "       [24.02593714],\n",
       "       [ 5.44691807],\n",
       "       [21.35152331],\n",
       "       [41.27267175],\n",
       "       [18.13447647],\n",
       "       [ 9.8012101 ],\n",
       "       [21.24024342],\n",
       "       [13.02644969],\n",
       "       [21.80198374],\n",
       "       [ 9.48201752],\n",
       "       [22.99183857],\n",
       "       [31.90465631],\n",
       "       [18.95594718],\n",
       "       [25.48515032],\n",
       "       [29.49687019],\n",
       "       [20.07282539],\n",
       "       [25.5616062 ],\n",
       "       [ 5.59584382],\n",
       "       [20.18410904],\n",
       "       [15.08773299],\n",
       "       [14.34562117],\n",
       "       [20.85155407],\n",
       "       [24.80149389],\n",
       "       [-0.19785401],\n",
       "       [13.57649004],\n",
       "       [15.64401679],\n",
       "       [22.03765773],\n",
       "       [24.70314482],\n",
       "       [10.86409112],\n",
       "       [19.60231067],\n",
       "       [23.73429161],\n",
       "       [12.08082177],\n",
       "       [18.40997903],\n",
       "       [25.4366158 ],\n",
       "       [20.76506636],\n",
       "       [24.68588237],\n",
       "       [ 7.4995836 ],\n",
       "       [18.93015665],\n",
       "       [21.70801764],\n",
       "       [27.14350579],\n",
       "       [31.93765208],\n",
       "       [15.19483586],\n",
       "       [34.01357428],\n",
       "       [12.85763091],\n",
       "       [21.06646184],\n",
       "       [28.58470042],\n",
       "       [15.77437534],\n",
       "       [24.77512495],\n",
       "       [ 3.64655689],\n",
       "       [23.91169589],\n",
       "       [25.82292925],\n",
       "       [23.03339677],\n",
       "       [25.35158335],\n",
       "       [33.05655447],\n",
       "       [20.65930467],\n",
       "       [38.18917361],\n",
       "       [14.04714297],\n",
       "       [25.26034469],\n",
       "       [17.6138723 ],\n",
       "       [20.60883766],\n",
       "       [ 9.8525544 ],\n",
       "       [21.06756951],\n",
       "       [22.20145587],\n",
       "       [32.2920276 ],\n",
       "       [31.57638342],\n",
       "       [15.29265938],\n",
       "       [16.7100235 ],\n",
       "       [29.10550932],\n",
       "       [25.17762329],\n",
       "       [16.88159225],\n",
       "       [ 6.32621877],\n",
       "       [26.70210263],\n",
       "       [23.3525851 ],\n",
       "       [17.24168182],\n",
       "       [13.22815696],\n",
       "       [39.49907507],\n",
       "       [16.53528575],\n",
       "       [18.14635902],\n",
       "       [25.06620426],\n",
       "       [23.70640231],\n",
       "       [22.20167772],\n",
       "       [21.22272327],\n",
       "       [16.89825921],\n",
       "       [23.15518273],\n",
       "       [28.69699805],\n",
       "       [ 6.65526482],\n",
       "       [23.98399958],\n",
       "       [17.21004545],\n",
       "       [21.0574427 ],\n",
       "       [25.01734597],\n",
       "       [27.65461859],\n",
       "       [20.70205823],\n",
       "       [40.38214871]])"
      ]
     },
     "execution_count": 14,
     "metadata": {},
     "output_type": "execute_result"
    }
   ],
   "source": [
    "lr_preds"
   ]
  },
  {
   "cell_type": "code",
   "execution_count": 16,
   "metadata": {},
   "outputs": [
    {
     "data": {
      "text/plain": [
       "0.7266979480125311"
      ]
     },
     "execution_count": 16,
     "metadata": {},
     "output_type": "execute_result"
    }
   ],
   "source": [
    "from sklearn.metrics import explained_variance_score\n",
    "explained_variance_score(y_test, lr_preds)"
   ]
  },
  {
   "cell_type": "code",
   "execution_count": 20,
   "metadata": {},
   "outputs": [],
   "source": [
    "y_test['lr_preds'] = lr_preds"
   ]
  },
  {
   "cell_type": "code",
   "execution_count": 21,
   "metadata": {},
   "outputs": [
    {
     "data": {
      "text/html": [
       "<div>\n",
       "<style scoped>\n",
       "    .dataframe tbody tr th:only-of-type {\n",
       "        vertical-align: middle;\n",
       "    }\n",
       "\n",
       "    .dataframe tbody tr th {\n",
       "        vertical-align: top;\n",
       "    }\n",
       "\n",
       "    .dataframe thead th {\n",
       "        text-align: right;\n",
       "    }\n",
       "</style>\n",
       "<table border=\"1\" class=\"dataframe\">\n",
       "  <thead>\n",
       "    <tr style=\"text-align: right;\">\n",
       "      <th></th>\n",
       "      <th>target</th>\n",
       "      <th>lr_preds</th>\n",
       "    </tr>\n",
       "  </thead>\n",
       "  <tbody>\n",
       "    <tr>\n",
       "      <th>0</th>\n",
       "      <td>23.6</td>\n",
       "      <td>28.534695</td>\n",
       "    </tr>\n",
       "    <tr>\n",
       "      <th>1</th>\n",
       "      <td>32.4</td>\n",
       "      <td>36.618701</td>\n",
       "    </tr>\n",
       "    <tr>\n",
       "      <th>2</th>\n",
       "      <td>13.6</td>\n",
       "      <td>15.637511</td>\n",
       "    </tr>\n",
       "    <tr>\n",
       "      <th>3</th>\n",
       "      <td>22.8</td>\n",
       "      <td>25.501450</td>\n",
       "    </tr>\n",
       "    <tr>\n",
       "      <th>4</th>\n",
       "      <td>16.1</td>\n",
       "      <td>18.709673</td>\n",
       "    </tr>\n",
       "    <tr>\n",
       "      <th>...</th>\n",
       "      <td>...</td>\n",
       "      <td>...</td>\n",
       "    </tr>\n",
       "    <tr>\n",
       "      <th>162</th>\n",
       "      <td>21.7</td>\n",
       "      <td>21.057443</td>\n",
       "    </tr>\n",
       "    <tr>\n",
       "      <th>163</th>\n",
       "      <td>23.1</td>\n",
       "      <td>25.017346</td>\n",
       "    </tr>\n",
       "    <tr>\n",
       "      <th>164</th>\n",
       "      <td>22.8</td>\n",
       "      <td>27.654619</td>\n",
       "    </tr>\n",
       "    <tr>\n",
       "      <th>165</th>\n",
       "      <td>21.0</td>\n",
       "      <td>20.702058</td>\n",
       "    </tr>\n",
       "    <tr>\n",
       "      <th>166</th>\n",
       "      <td>48.8</td>\n",
       "      <td>40.382149</td>\n",
       "    </tr>\n",
       "  </tbody>\n",
       "</table>\n",
       "<p>167 rows × 2 columns</p>\n",
       "</div>"
      ],
      "text/plain": [
       "     target   lr_preds\n",
       "0      23.6  28.534695\n",
       "1      32.4  36.618701\n",
       "2      13.6  15.637511\n",
       "3      22.8  25.501450\n",
       "4      16.1  18.709673\n",
       "..      ...        ...\n",
       "162    21.7  21.057443\n",
       "163    23.1  25.017346\n",
       "164    22.8  27.654619\n",
       "165    21.0  20.702058\n",
       "166    48.8  40.382149\n",
       "\n",
       "[167 rows x 2 columns]"
      ]
     },
     "execution_count": 21,
     "metadata": {},
     "output_type": "execute_result"
    }
   ],
   "source": [
    "y_test"
   ]
  },
  {
   "cell_type": "code",
   "execution_count": 22,
   "metadata": {},
   "outputs": [
    {
     "data": {
      "text/html": [
       "<div>\n",
       "<style scoped>\n",
       "    .dataframe tbody tr th:only-of-type {\n",
       "        vertical-align: middle;\n",
       "    }\n",
       "\n",
       "    .dataframe tbody tr th {\n",
       "        vertical-align: top;\n",
       "    }\n",
       "\n",
       "    .dataframe thead th {\n",
       "        text-align: right;\n",
       "    }\n",
       "</style>\n",
       "<table border=\"1\" class=\"dataframe\">\n",
       "  <thead>\n",
       "    <tr style=\"text-align: right;\">\n",
       "      <th></th>\n",
       "      <th>target</th>\n",
       "      <th>lr_preds</th>\n",
       "    </tr>\n",
       "  </thead>\n",
       "  <tbody>\n",
       "    <tr>\n",
       "      <th>target</th>\n",
       "      <td>1.000000</td>\n",
       "      <td>0.854426</td>\n",
       "    </tr>\n",
       "    <tr>\n",
       "      <th>lr_preds</th>\n",
       "      <td>0.854426</td>\n",
       "      <td>1.000000</td>\n",
       "    </tr>\n",
       "  </tbody>\n",
       "</table>\n",
       "</div>"
      ],
      "text/plain": [
       "            target  lr_preds\n",
       "target    1.000000  0.854426\n",
       "lr_preds  0.854426  1.000000"
      ]
     },
     "execution_count": 22,
     "metadata": {},
     "output_type": "execute_result"
    }
   ],
   "source": [
    "y_test.corr()"
   ]
  },
  {
   "cell_type": "code",
   "execution_count": 23,
   "metadata": {},
   "outputs": [
    {
     "data": {
      "text/plain": [
       "<seaborn.axisgrid.PairGrid at 0x7fc1515901d0>"
      ]
     },
     "execution_count": 23,
     "metadata": {},
     "output_type": "execute_result"
    },
    {
     "data": {
      "image/png": "[encoded data removed]",
      "text/plain": [
       "<Figure size 360x360 with 6 Axes>"
      ]
     },
     "metadata": {
      "needs_background": "light"
     },
     "output_type": "display_data"
    }
   ],
   "source": [
    "sns.pairplot(y_test)"
   ]
  },
  {
   "cell_type": "code",
   "execution_count": null,
   "metadata": {},
   "outputs": [],
   "source": []
  }
 ],
 "metadata": {
  "kernelspec": {
   "display_name": "Python 3",
   "language": "python",
   "name": "python3"
  },
  "language_info": {
   "codemirror_mode": {
    "name": "ipython",
    "version": 3
   },
   "file_extension": ".py",
   "mimetype": "text/x-python",
   "name": "python",
   "nbconvert_exporter": "python",
   "pygments_lexer": "ipython3",
   "version": "3.7.6"
  }
 },
 "nbformat": 4,
 "nbformat_minor": 4
}
